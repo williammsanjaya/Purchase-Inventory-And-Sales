{
  "nbformat": 4,
  "nbformat_minor": 0,
  "metadata": {
    "colab": {
      "provenance": [],
      "authorship_tag": "ABX9TyOedINpUgYBzlTwvE1Ut446",
      "include_colab_link": true
    },
    "kernelspec": {
      "name": "python3",
      "display_name": "Python 3"
    },
    "language_info": {
      "name": "python"
    }
  },
  "cells": [
    {
      "cell_type": "markdown",
      "metadata": {
        "id": "view-in-github",
        "colab_type": "text"
      },
      "source": [
        "<a href=\"https://colab.research.google.com/github/williammsanjaya/Purchase-Inventory-And-Sales/blob/main/Purchase_Inventory_And_Sales.ipynb\" target=\"_parent\"><img src=\"https://colab.research.google.com/assets/colab-badge.svg\" alt=\"Open In Colab\"/></a>"
      ]
    },
    {
      "cell_type": "code",
      "execution_count": 6,
      "metadata": {
        "id": "C499Ewiwm8Xn"
      },
      "outputs": [],
      "source": [
        "import pandas as pd\n",
        "\n",
        "url_DC7_Purchasing = 'https://raw.githubusercontent.com/williammsanjaya/Purchase-Inventory-And-Sales/main/Dataset/DC7%20-%20Billing.csv'\n",
        "url_DC7_Billing = 'https://raw.githubusercontent.com/williammsanjaya/Purchase-Inventory-And-Sales/main/Dataset/DC7%20-%20Billing.csv'\n",
        "url_DC7_Receiving = 'https://raw.githubusercontent.com/williammsanjaya/Purchase-Inventory-And-Sales/main/Dataset/DC7%20-%20Receiving.csv'"
      ]
    },
    {
      "cell_type": "code",
      "source": [
        "df_DC7_Purchasing = pd.read_csv(url_DC7_Purchasing)\n",
        "df_DC7_Billing = pd.read_csv(url_DC7_Billing)\n",
        "df_DC7_Receiving = pd.read_csv(url_DC7_Receiving)\n"
      ],
      "metadata": {
        "id": "Dbg1NB7KpBcn"
      },
      "execution_count": 8,
      "outputs": []
    },
    {
      "cell_type": "code",
      "source": [],
      "metadata": {
        "id": "pM_tdoRYpWVz"
      },
      "execution_count": null,
      "outputs": []
    }
  ]
}